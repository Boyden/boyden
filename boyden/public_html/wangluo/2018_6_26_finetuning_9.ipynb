{
 "cells": [
  {
   "cell_type": "code",
   "execution_count": 1,
   "metadata": {},
   "outputs": [],
   "source": [
    "## 使用了HCP_Sch中的预训练模型"
   ]
  },
  {
   "cell_type": "code",
   "execution_count": 1,
   "metadata": {},
   "outputs": [],
   "source": [
    "import os, glob\n",
    "import numpy as np\n",
    "import pandas as pd"
   ]
  },
  {
   "cell_type": "code",
   "execution_count": 2,
   "metadata": {},
   "outputs": [],
   "source": [
    "root_path = []\n",
    "root_path.append('/home/neurolab/NeuroRaid/PlusRaid/Data2017/Data_Schiz/AllLabeled_Sternberg_three_errts/')"
   ]
  },
  {
   "cell_type": "code",
   "execution_count": 3,
   "metadata": {},
   "outputs": [],
   "source": [
    "all_file = []\n",
    "for path in root_path:\n",
    "    all_file.extend(glob.glob(path + '*.nii.gz'))"
   ]
  },
  {
   "cell_type": "code",
   "execution_count": 4,
   "metadata": {},
   "outputs": [],
   "source": [
    "info = []\n",
    "for i in xrange(len(all_file)):\n",
    "    info.append([all_file[i].split(os.sep)[-1].split('_')[0], all_file[i].split(os.sep)[-1].split('_')[2]] + [all_file[i].split(os.sep)[-1]] + [all_file[i]])\n",
    "\n",
    "df = pd.DataFrame(info, columns=['userID', 'task', 'file_name', 'file_path'])\n",
    "df = df.sort_values(['userID'])\n",
    "df.reset_index(inplace=True)\n",
    "df.drop(['index'], axis=1, inplace=True)"
   ]
  },
  {
   "cell_type": "code",
   "execution_count": 5,
   "metadata": {},
   "outputs": [],
   "source": [
    "df = pd.get_dummies(df, columns=['task'])"
   ]
  },
  {
   "cell_type": "code",
   "execution_count": 8,
   "metadata": {},
   "outputs": [],
   "source": [
    "# old_data = glob.glob('../HCP_Sch/AllLabeledLong5/*')\n",
    "# import nibabel as nib\n",
    "# data = nib.load(all_file[135]).get_data()"
   ]
  },
  {
   "cell_type": "code",
   "execution_count": 7,
   "metadata": {},
   "outputs": [
    {
     "name": "stderr",
     "output_type": "stream",
     "text": [
      "/home/neurolab/anaconda2/lib/python2.7/site-packages/sklearn/cross_validation.py:41: DeprecationWarning: This module was deprecated in version 0.18 in favor of the model_selection module into which all the refactored classes and functions are moved. Also note that the interface of the new CV iterators are different from that of this module. This module will be removed in 0.20.\n",
      "  \"This module will be removed in 0.20.\", DeprecationWarning)\n"
     ]
    }
   ],
   "source": [
    "from sklearn.cross_validation import train_test_split\n",
    "X_train, X_test, _, _ = train_test_split(df.userID.unique(), df.userID.unique(), test_size=0.3, random_state=42)\n",
    "X_test, X_val, _, _ = train_test_split(X_test, X_test, test_size=0.33, random_state=42)\n",
    "\n",
    "fun = lambda df, id_list: [df[df.userID.isin(id_list)]['file_path'].values, df[df.userID.isin(id_list)].iloc[:, 3:].values]\n",
    "\n",
    "X_train, y_train = fun(df, X_train) \n",
    "X_test, y_test = fun(df, X_test) \n",
    "X_val, y_val = fun(df, X_val) "
   ]
  },
  {
   "cell_type": "code",
   "execution_count": 8,
   "metadata": {},
   "outputs": [],
   "source": [
    "# val_file_name = [X_val[i].split(os.sep)[-1] for i in range(len(X_val))]\n",
    "\n",
    "# tmp_df = pd.DataFrame(val_file_name, columns=['file_name'])\n",
    "\n",
    "# tmp_df.to_csv('val_file.csv', index=False)"
   ]
  },
  {
   "cell_type": "code",
   "execution_count": 9,
   "metadata": {},
   "outputs": [],
   "source": [
    "import torch\n",
    "import torch.nn as nn\n",
    "import torch.nn.functional as F\n",
    "from torch.autograd import Variable\n",
    "from torch.utils.data import Dataset"
   ]
  },
  {
   "cell_type": "code",
   "execution_count": 10,
   "metadata": {},
   "outputs": [],
   "source": [
    "def to_np(x):\n",
    "    return x.data.cpu().numpy()\n",
    "\n",
    "def to_var(x, is_volatile=False):\n",
    "    if torch.cuda.is_available():\n",
    "        x = x.cuda()\n",
    "    if is_volatile:\n",
    "        return Variable(x, volatile=True)\n",
    "    else:\n",
    "        return Variable(x)"
   ]
  },
  {
   "cell_type": "code",
   "execution_count": 11,
   "metadata": {},
   "outputs": [
    {
     "name": "stderr",
     "output_type": "stream",
     "text": [
      "/home/neurolab/anaconda2/lib/python2.7/site-packages/h5py/__init__.py:36: FutureWarning: Conversion of the second argument of issubdtype from `float` to `np.floating` is deprecated. In future, it will be treated as `np.float64 == np.dtype(float).type`.\n",
      "  from ._conv import register_converters as _register_converters\n"
     ]
    }
   ],
   "source": [
    "import nibabel as nib\n",
    "motor_mask = nib.load('/home/neurolab/NeuroRaid/PlusRaid/Data2017/Data_Schiz/mask_motor.nii.gz').get_data()\n",
    "class BrainDataset(Dataset):\n",
    "    def __init__(self, root_path, file_list, label_list, train=True):\n",
    "        self.train = train\n",
    "        self.input_shape = 21\n",
    "        self.root_path = root_path\n",
    "        self.file_list = file_list\n",
    "        self.label_list = label_list\n",
    "        \n",
    "    def __getitem__(self, index):\n",
    "        img = self.normalize_data(nib.load(os.path.join(self.root_path, self.file_list[index])).get_data())\n",
    "#         img = self.normalize_data(nib.load(os.path.join(self.root_path, self.file_list[index][:-3])).get_data())\n",
    "        target = np.argmax(self.label_list[index])\n",
    "        return img, target\n",
    "    \n",
    "    def __len__(self):\n",
    "        return len(self.label_list)\n",
    "    \n",
    "    def normalize_data(self, data):\n",
    "        \n",
    "        data = data * (1 - motor_mask)[..., np.newaxis]\n",
    "        if self.train:\n",
    "#             print str(self.input_shape) + '   ' +  str(data.shape[-1])\n",
    "            select_idx = np.random.randint(low=self.input_shape, high=data.shape[-1], size=1)[0]\n",
    "            data = data[4:-5, 5:-4, :-6, select_idx-self.input_shape:select_idx]\n",
    "        else:\n",
    "            data = data[4:-5, 5:-4, :-6, :self.input_shape]\n",
    "        data = data / 10000. #data.max(axis=3)[:, :, :, np.newaxis]\n",
    "        data[~ np.isfinite(data)] = 0\n",
    "        \n",
    "        return data.transpose(3, 0, 1, 2)"
   ]
  },
  {
   "cell_type": "code",
   "execution_count": 12,
   "metadata": {},
   "outputs": [],
   "source": [
    "import torch\n",
    "import torch.nn as nn\n",
    "import torch.nn.functional as F\n",
    "\n",
    "class PostRes(nn.Module):\n",
    "    def __init__(self, n_in, n_out, stride = 1):\n",
    "        super(PostRes, self).__init__()\n",
    "        self.conv1 = nn.Conv3d(n_in, n_out, kernel_size = 3, stride = stride, padding = 1)\n",
    "        self.bn1 = nn.BatchNorm3d(n_out)\n",
    "        self.relu = nn.ReLU(inplace = True)\n",
    "        self.conv2 = nn.Conv3d(n_out, n_out, kernel_size = 3, padding = 1)\n",
    "        self.bn2 = nn.BatchNorm3d(n_out)\n",
    "\n",
    "        self.relu2 = nn.ReLU(inplace = True) #for vis\n",
    "        if stride != 1 or n_out != n_in:\n",
    "            self.shortcut = nn.Sequential(\n",
    "                nn.Conv3d(n_in, n_out, kernel_size = 1, stride = stride),\n",
    "                nn.BatchNorm3d(n_out))\n",
    "        else:\n",
    "            self.shortcut = None\n",
    "\n",
    "    def forward(self, x):\n",
    "        residual = x\n",
    "        if self.shortcut is not None:\n",
    "            residual = self.shortcut(x)\n",
    "        out = self.conv1(x)\n",
    "        out = self.bn1(out)\n",
    "        out = self.relu(out)\n",
    "        out = self.conv2(out)\n",
    "        out = self.bn2(out)\n",
    "        \n",
    "        out += residual\n",
    "        out = self.relu2(out)\n",
    "        return out\n",
    "    \n",
    "class DeepBrain(nn.Module):\n",
    "    def __init__(self, block=PostRes):\n",
    "        super(DeepBrain, self).__init__()\n",
    "        self.n_classes = 2\n",
    "        self.in_planes = 16\n",
    "        \n",
    "        self.preBlock = nn.Sequential(\n",
    "            nn.Conv3d(21, 3, kernel_size=1, padding=0),\n",
    "            nn.BatchNorm3d(3),\n",
    "            nn.ReLU(inplace=True),\n",
    "            nn.Conv3d(3, 24, kernel_size=3, stride=2, padding=1),\n",
    "            nn.BatchNorm3d(24),\n",
    "            nn.ReLU(inplace = True))\n",
    "        \n",
    "        self.layer_1 = self._make_layer(block,  24, 32, 2)\n",
    "        self.layer_2 = self._make_layer(block, 32, 64, 2, pooling=True)\n",
    "        self.layer_3 = self._make_layer(block, 64, 64, 2, pooling=True)\n",
    "        self.layer_4 = self._make_layer(block, 64, 128, 2, pooling=True)\n",
    "        \n",
    "        self.pool = nn.AdaptiveMaxPool3d(1)\n",
    "        \n",
    "        self.classifier = nn.Sequential(\n",
    "            nn.Linear(128 * 1, 64),\n",
    "            nn.ReLU(inplace=True),\n",
    "            nn.Dropout(),\n",
    "            nn.Linear(64, self.n_classes),\n",
    "            nn.LogSoftmax())\n",
    "        \n",
    "        self._initialize_weights()\n",
    "        \n",
    "    def _make_layer(self, block, planes_in, planes_out, num_blocks, pooling=False, drop_out=False):\n",
    "        layers = []\n",
    "        if pooling:\n",
    "            layers.append(nn.MaxPool3d(kernel_size=2, stride=2))\n",
    "        layers.append(block(planes_in, planes_out))\n",
    "        for i in range(num_blocks - 1):\n",
    "            layers.append(block(planes_out, planes_out))\n",
    "            \n",
    "        return nn.Sequential(*layers)\n",
    "    \n",
    "    def _initialize_weights(self):\n",
    "        for m in self.modules():\n",
    "            if isinstance(m, nn.Conv3d):\n",
    "                nn.init.xavier_uniform(m.weight, gain=nn.init.calculate_gain('relu'))\n",
    "                if m.bias is not None:\n",
    "                    m.bias.data.zero_()\n",
    "            elif isinstance(m, nn.BatchNorm3d):\n",
    "                m.weight.data.fill_(1)\n",
    "                m.bias.data.zero_()\n",
    "            elif isinstance(m, nn.Linear):\n",
    "                n = m.weight.size(1)\n",
    "                m.weight.data.normal_(0, 0.01)\n",
    "                m.bias.data.zero_()\n",
    "                \n",
    "    def forward(self, x):\n",
    "        \n",
    "        x = self.preBlock(x)\n",
    "\n",
    "        x = self.layer_1(x)\n",
    "        x = self.layer_2(x)\n",
    "        x = self.layer_3(x)\n",
    "        x = self.layer_4(x)\n",
    "        \n",
    "        x = self.pool(x)\n",
    "        x = x.view(-1, 128 * 1)\n",
    "        \n",
    "        x = self.classifier(x)\n",
    "        \n",
    "        return x"
   ]
  },
  {
   "cell_type": "code",
   "execution_count": 13,
   "metadata": {},
   "outputs": [],
   "source": [
    "# ##模型迁移\n",
    "# def assign(net1, net2):\n",
    "#     for param1, param2 in zip(net1.parameters(), net2.parameters()):\n",
    "#         param1.data = param2.data\n",
    "\n",
    "# from model import *\n",
    "# old_net = torch.load('../HCP_Sch/Model_Multiclass_WD/DeepBrain_epoch_97.pkl')\n",
    "\n",
    "# new_net = DeepBrain()\n",
    "\n",
    "# assign(new_net.preBlock, old_net.preBlock)\n",
    "# assign(new_net.layer_1, old_net.layer_1)\n",
    "# assign(new_net.layer_2, old_net.layer_2)\n",
    "# assign(new_net.layer_3, old_net.layer_3)\n",
    "# assign(new_net.layer_4, old_net.layer_4)\n",
    "\n",
    "# torch.save(new_net, 'Model/finetuning_97_9.pkl')"
   ]
  },
  {
   "cell_type": "code",
   "execution_count": 14,
   "metadata": {},
   "outputs": [],
   "source": [
    "net = DeepBrain()\n",
    "# net = torch.load('Model/finetuning_97_9.pkl')\n",
    "if torch.cuda.is_available():\n",
    "    net.cuda()\n",
    "criterion = nn.NLLLoss().cuda()\n",
    "learning_rate = 0.001\n",
    "optimizer = torch.optim.Adam(net.parameters(), lr=learning_rate, betas=(0.9, 0.999), eps=1e-08, weight_decay=1e-5)\n",
    "# optimizer =  torch.optim.SGD(net.parameters(), lr = learning_rate, momentum=0.9)"
   ]
  },
  {
   "cell_type": "code",
   "execution_count": 15,
   "metadata": {},
   "outputs": [],
   "source": [
    "num_epochs = 250\n",
    "batch_size = 24\n",
    "num_workers = 6\n",
    "\n",
    "trainset = BrainDataset(root_path=root_path, file_list=X_train, label_list=y_train, train=True)\n",
    "trainloader = torch.utils.data.DataLoader(trainset, batch_size=batch_size, shuffle=True, num_workers=num_workers)\n",
    "\n",
    "valset = BrainDataset(root_path=root_path, file_list=X_val, label_list=y_val, train=False)\n",
    "valloader = torch.utils.data.DataLoader(valset, batch_size=batch_size, shuffle=False, num_workers=num_workers)\n",
    "\n",
    "testset = BrainDataset(root_path=root_path, file_list=X_test, label_list=y_test, train=False)\n",
    "testloader = torch.utils.data.DataLoader(testset, batch_size=batch_size, shuffle=False, num_workers=num_workers)"
   ]
  },
  {
   "cell_type": "code",
   "execution_count": null,
   "metadata": {},
   "outputs": [],
   "source": [
    "from logger import Logger\n",
    "logger = Logger('./logs')"
   ]
  },
  {
   "cell_type": "code",
   "execution_count": null,
   "metadata": {},
   "outputs": [
    {
     "name": "stdout",
     "output_type": "stream",
     "text": [
      "epoch:0\n"
     ]
    },
    {
     "name": "stderr",
     "output_type": "stream",
     "text": [
      "/home/neurolab/anaconda2/lib/python2.7/site-packages/torch/nn/modules/container.py:67: UserWarning: Implicit dimension choice for log_softmax has been deprecated. Change the call to include dim=X as an argument.\n",
      "  input = module(input)\n"
     ]
    },
    {
     "name": "stdout",
     "output_type": "stream",
     "text": [
      "Epoch [1/250], Iter [30/62], Loss: 0.691282, Acc: 0.495833\n",
      "Epoch [1/250], Iter [60/62], Loss: 0.691722, Acc: 0.525000\n"
     ]
    },
    {
     "name": "stderr",
     "output_type": "stream",
     "text": [
      "/home/neurolab/anaconda2/lib/python2.7/site-packages/torch/serialization.py:159: UserWarning: Couldn't retrieve source code for container of type DeepBrain. It won't be checked for correctness upon loading.\n",
      "  \"type \" + obj.__name__ + \". It won't be checked \"\n",
      "/home/neurolab/anaconda2/lib/python2.7/site-packages/torch/serialization.py:159: UserWarning: Couldn't retrieve source code for container of type PostRes. It won't be checked for correctness upon loading.\n",
      "  \"type \" + obj.__name__ + \". It won't be checked \"\n"
     ]
    },
    {
     "name": "stdout",
     "output_type": "stream",
     "text": [
      "epoch:1\n",
      "Epoch [2/250], Iter [30/62], Loss: 0.681467, Acc: 0.559722\n",
      "Epoch [2/250], Iter [60/62], Loss: 0.684972, Acc: 0.563194\n",
      "epoch:2\n",
      "Epoch [3/250], Iter [30/62], Loss: 0.676233, Acc: 0.591667\n",
      "Epoch [3/250], Iter [60/62], Loss: 0.670215, Acc: 0.602083\n",
      "epoch:3\n",
      "Epoch [4/250], Iter [30/62], Loss: 0.648522, Acc: 0.626389\n",
      "Epoch [4/250], Iter [60/62], Loss: 0.645256, Acc: 0.635417\n",
      "epoch:4\n",
      "Epoch [5/250], Iter [30/62], Loss: 0.626156, Acc: 0.659722\n",
      "Epoch [5/250], Iter [60/62], Loss: 0.616762, Acc: 0.668056\n",
      "epoch:5\n",
      "Epoch [6/250], Iter [30/62], Loss: 0.618362, Acc: 0.675000\n",
      "Epoch [6/250], Iter [60/62], Loss: 0.586567, Acc: 0.701389\n",
      "epoch:6\n",
      "Epoch [7/250], Iter [30/62], Loss: 0.530413, Acc: 0.741667\n",
      "Epoch [7/250], Iter [60/62], Loss: 0.537507, Acc: 0.745139\n",
      "epoch:7\n",
      "Epoch [8/250], Iter [30/62], Loss: 0.505761, Acc: 0.759722\n",
      "Epoch [8/250], Iter [60/62], Loss: 0.497702, Acc: 0.759722\n",
      "epoch:8\n",
      "Epoch [9/250], Iter [30/62], Loss: 0.432919, Acc: 0.800000\n",
      "Epoch [9/250], Iter [60/62], Loss: 0.454579, Acc: 0.792361\n",
      "epoch:9\n",
      "Epoch [10/250], Iter [30/62], Loss: 0.447303, Acc: 0.779167\n",
      "Epoch [10/250], Iter [60/62], Loss: 0.422447, Acc: 0.809028\n",
      "epoch:10\n",
      "Epoch [11/250], Iter [30/62], Loss: 0.337534, Acc: 0.870833\n",
      "Epoch [11/250], Iter [60/62], Loss: 0.374299, Acc: 0.847222\n",
      "epoch:11\n",
      "Epoch [12/250], Iter [30/62], Loss: 0.281769, Acc: 0.909722\n",
      "Epoch [12/250], Iter [60/62], Loss: 0.345475, Acc: 0.870139\n",
      "epoch:12\n",
      "Epoch [13/250], Iter [30/62], Loss: 0.295277, Acc: 0.879167\n",
      "Epoch [13/250], Iter [60/62], Loss: 0.287575, Acc: 0.884722\n",
      "epoch:13\n",
      "Epoch [14/250], Iter [30/62], Loss: 0.258104, Acc: 0.905556\n",
      "Epoch [14/250], Iter [60/62], Loss: 0.235964, Acc: 0.913194\n",
      "epoch:14\n",
      "Epoch [15/250], Iter [30/62], Loss: 0.191922, Acc: 0.937500\n",
      "Epoch [15/250], Iter [60/62], Loss: 0.226438, Acc: 0.922222\n",
      "epoch:15\n",
      "Epoch [16/250], Iter [30/62], Loss: 0.180711, Acc: 0.929167\n",
      "Epoch [16/250], Iter [60/62], Loss: 0.219880, Acc: 0.915972\n",
      "epoch:16\n",
      "Epoch [17/250], Iter [30/62], Loss: 0.186125, Acc: 0.945833\n",
      "Epoch [17/250], Iter [60/62], Loss: 0.163449, Acc: 0.948611\n",
      "epoch:17\n",
      "Epoch [18/250], Iter [30/62], Loss: 0.182811, Acc: 0.941667\n",
      "Epoch [18/250], Iter [60/62], Loss: 0.174300, Acc: 0.940278\n"
     ]
    },
    {
     "name": "stderr",
     "output_type": "stream",
     "text": [
      "Process Process-213:\n",
      "Traceback (most recent call last):\n",
      "Process Process-215:\n",
      "  File \"/home/neurolab/anaconda2/lib/python2.7/multiprocessing/process.py\", line 267, in _bootstrap\n",
      "    self.run()\n",
      "Traceback (most recent call last):\n",
      "  File \"/home/neurolab/anaconda2/lib/python2.7/multiprocessing/process.py\", line 267, in _bootstrap\n",
      "  File \"/home/neurolab/anaconda2/lib/python2.7/multiprocessing/process.py\", line 114, in run\n",
      "    self._target(*self._args, **self._kwargs)\n",
      "    self.run()\n",
      "  File \"/home/neurolab/anaconda2/lib/python2.7/site-packages/torch/utils/data/dataloader.py\", line 55, in _worker_loop\n",
      "  File \"/home/neurolab/anaconda2/lib/python2.7/multiprocessing/process.py\", line 114, in run\n",
      "    samples = collate_fn([dataset[i] for i in batch_indices])\n",
      "    self._target(*self._args, **self._kwargs)\n",
      "  File \"<ipython-input-11-b004e61aadd3>\", line 12, in __getitem__\n",
      "  File \"/home/neurolab/anaconda2/lib/python2.7/site-packages/torch/utils/data/dataloader.py\", line 55, in _worker_loop\n",
      "    img = self.normalize_data(nib.load(os.path.join(self.root_path, self.file_list[index])).get_data())\n",
      "Process Process-216:\n",
      "    samples = collate_fn([dataset[i] for i in batch_indices])\n",
      "Process Process-211:\n",
      "  File \"<ipython-input-11-b004e61aadd3>\", line 22, in normalize_data\n",
      "  File \"<ipython-input-11-b004e61aadd3>\", line 12, in __getitem__\n",
      "    data = data * (1 - motor_mask)[..., np.newaxis]\n",
      "Traceback (most recent call last):\n",
      "Process Process-212:\n",
      "Traceback (most recent call last):\n",
      "    img = self.normalize_data(nib.load(os.path.join(self.root_path, self.file_list[index])).get_data())\n",
      "KeyboardInterrupt\n",
      "  File \"/home/neurolab/anaconda2/lib/python2.7/multiprocessing/process.py\", line 267, in _bootstrap\n",
      "  File \"/home/neurolab/anaconda2/lib/python2.7/site-packages/nibabel/dataobj_images.py\", line 202, in get_data\n",
      "    data = np.asanyarray(self._dataobj)\n",
      "    self.run()\n",
      "  File \"/home/neurolab/anaconda2/lib/python2.7/site-packages/numpy/core/numeric.py\", line 544, in asanyarray\n",
      "  File \"/home/neurolab/anaconda2/lib/python2.7/multiprocessing/process.py\", line 114, in run\n",
      "  File \"/home/neurolab/anaconda2/lib/python2.7/multiprocessing/process.py\", line 267, in _bootstrap\n",
      "    self._target(*self._args, **self._kwargs)\n",
      "    return array(a, dtype, copy=False, order=order, subok=True)\n",
      "  File \"/home/neurolab/anaconda2/lib/python2.7/site-packages/torch/utils/data/dataloader.py\", line 55, in _worker_loop\n",
      "    self.run()\n",
      "  File \"/home/neurolab/anaconda2/lib/python2.7/site-packages/nibabel/arrayproxy.py\", line 290, in __array__\n",
      "  File \"/home/neurolab/anaconda2/lib/python2.7/multiprocessing/process.py\", line 114, in run\n",
      "    samples = collate_fn([dataset[i] for i in batch_indices])\n",
      "Traceback (most recent call last):\n",
      "    raw_data = self.get_unscaled()\n",
      "    self._target(*self._args, **self._kwargs)\n",
      "  File \"/home/neurolab/anaconda2/lib/python2.7/multiprocessing/process.py\", line 267, in _bootstrap\n",
      "  File \"/home/neurolab/anaconda2/lib/python2.7/site-packages/nibabel/arrayproxy.py\", line 285, in get_unscaled\n",
      "  File \"/home/neurolab/anaconda2/lib/python2.7/site-packages/torch/utils/data/dataloader.py\", line 55, in _worker_loop\n",
      "    mmap=self._mmap)\n",
      "  File \"/home/neurolab/anaconda2/lib/python2.7/site-packages/nibabel/volumeutils.py\", line 524, in array_from_file\n",
      "    samples = collate_fn([dataset[i] for i in batch_indices])\n",
      "    n_read = infile.readinto(data_bytes)\n",
      "    self.run()\n",
      "  File \"/home/neurolab/anaconda2/lib/python2.7/gzip.py\", line 268, in read\n",
      "  File \"<ipython-input-11-b004e61aadd3>\", line 12, in __getitem__\n",
      "  File \"/home/neurolab/anaconda2/lib/python2.7/multiprocessing/process.py\", line 114, in run\n",
      "    self._read(readsize)\n",
      "    img = self.normalize_data(nib.load(os.path.join(self.root_path, self.file_list[index])).get_data())\n",
      "    self._target(*self._args, **self._kwargs)\n",
      "  File \"/home/neurolab/anaconda2/lib/python2.7/gzip.py\", line 320, in _read\n",
      "  File \"/home/neurolab/anaconda2/lib/python2.7/site-packages/torch/utils/data/dataloader.py\", line 55, in _worker_loop\n",
      "  File \"/home/neurolab/anaconda2/lib/python2.7/site-packages/nibabel/dataobj_images.py\", line 202, in get_data\n",
      "    self._add_read_data( uncompress )\n",
      "    samples = collate_fn([dataset[i] for i in batch_indices])\n",
      "  File \"<ipython-input-11-b004e61aadd3>\", line 12, in __getitem__\n",
      "  File \"/home/neurolab/anaconda2/lib/python2.7/gzip.py\", line 338, in _add_read_data\n",
      "    data = np.asanyarray(self._dataobj)\n",
      "  File \"<ipython-input-11-b004e61aadd3>\", line 12, in __getitem__\n",
      "    img = self.normalize_data(nib.load(os.path.join(self.root_path, self.file_list[index])).get_data())\n",
      "    self.extrabuf = self.extrabuf[offset:] + data\n",
      "    img = self.normalize_data(nib.load(os.path.join(self.root_path, self.file_list[index])).get_data())\n",
      "  File \"/home/neurolab/anaconda2/lib/python2.7/site-packages/nibabel/dataobj_images.py\", line 202, in get_data\n",
      "KeyboardInterrupt\n",
      "  File \"/home/neurolab/anaconda2/lib/python2.7/site-packages/numpy/core/numeric.py\", line 544, in asanyarray\n",
      "  File \"/home/neurolab/anaconda2/lib/python2.7/site-packages/nibabel/dataobj_images.py\", line 202, in get_data\n",
      "    data = np.asanyarray(self._dataobj)\n",
      "    data = np.asanyarray(self._dataobj)\n",
      "    return array(a, dtype, copy=False, order=order, subok=True)\n",
      "  File \"/home/neurolab/anaconda2/lib/python2.7/site-packages/numpy/core/numeric.py\", line 544, in asanyarray\n",
      "  File \"/home/neurolab/anaconda2/lib/python2.7/site-packages/numpy/core/numeric.py\", line 544, in asanyarray\n",
      "  File \"/home/neurolab/anaconda2/lib/python2.7/site-packages/nibabel/arrayproxy.py\", line 290, in __array__\n",
      "    return array(a, dtype, copy=False, order=order, subok=True)\n",
      "    raw_data = self.get_unscaled()\n",
      "    return array(a, dtype, copy=False, order=order, subok=True)\n",
      "  File \"/home/neurolab/anaconda2/lib/python2.7/site-packages/nibabel/arrayproxy.py\", line 290, in __array__\n",
      "  File \"/home/neurolab/anaconda2/lib/python2.7/site-packages/nibabel/arrayproxy.py\", line 285, in get_unscaled\n",
      "  File \"/home/neurolab/anaconda2/lib/python2.7/site-packages/nibabel/arrayproxy.py\", line 290, in __array__\n",
      "    raw_data = self.get_unscaled()\n",
      "    mmap=self._mmap)\n",
      "    raw_data = self.get_unscaled()\n",
      "  File \"/home/neurolab/anaconda2/lib/python2.7/site-packages/nibabel/arrayproxy.py\", line 285, in get_unscaled\n",
      "  File \"/home/neurolab/anaconda2/lib/python2.7/site-packages/nibabel/arrayproxy.py\", line 285, in get_unscaled\n",
      "  File \"/home/neurolab/anaconda2/lib/python2.7/site-packages/nibabel/volumeutils.py\", line 524, in array_from_file\n",
      "    mmap=self._mmap)\n",
      "    mmap=self._mmap)\n",
      "    n_read = infile.readinto(data_bytes)\n",
      "  File \"/home/neurolab/anaconda2/lib/python2.7/site-packages/nibabel/volumeutils.py\", line 524, in array_from_file\n",
      "  File \"/home/neurolab/anaconda2/lib/python2.7/site-packages/nibabel/volumeutils.py\", line 524, in array_from_file\n",
      "  File \"/home/neurolab/anaconda2/lib/python2.7/gzip.py\", line 268, in read\n",
      "    n_read = infile.readinto(data_bytes)\n",
      "    n_read = infile.readinto(data_bytes)\n",
      "    self._read(readsize)\n",
      "  File \"/home/neurolab/anaconda2/lib/python2.7/gzip.py\", line 268, in read\n",
      "  File \"/home/neurolab/anaconda2/lib/python2.7/gzip.py\", line 268, in read\n",
      "  File \"/home/neurolab/anaconda2/lib/python2.7/gzip.py\", line 320, in _read\n",
      "    self._read(readsize)\n",
      "    self._add_read_data( uncompress )\n",
      "    self._read(readsize)\n",
      "  File \"/home/neurolab/anaconda2/lib/python2.7/gzip.py\", line 338, in _add_read_data\n",
      "  File \"/home/neurolab/anaconda2/lib/python2.7/gzip.py\", line 320, in _read\n",
      "  File \"/home/neurolab/anaconda2/lib/python2.7/gzip.py\", line 320, in _read\n",
      "    self._add_read_data( uncompress )\n",
      "    self._add_read_data( uncompress )\n",
      "ERROR:root:Internal Python error in the inspect module.\n",
      "Below is the traceback from this internal error.\n",
      "\n",
      "    self.extrabuf = self.extrabuf[offset:] + data\n",
      "  File \"/home/neurolab/anaconda2/lib/python2.7/gzip.py\", line 338, in _add_read_data\n",
      "  File \"/home/neurolab/anaconda2/lib/python2.7/gzip.py\", line 338, in _add_read_data\n",
      "KeyboardInterrupt\n",
      "    self.extrabuf = self.extrabuf[offset:] + data\n",
      "    self.extrabuf = self.extrabuf[offset:] + data\n",
      "KeyboardInterrupt\n",
      "KeyboardInterrupt\n"
     ]
    },
    {
     "name": "stdout",
     "output_type": "stream",
     "text": [
      "Traceback (most recent call last):\n",
      "  File \"/home/neurolab/anaconda2/lib/python2.7/site-packages/IPython/core/ultratb.py\", line 1132, in get_records\n",
      "    return _fixed_getinnerframes(etb, number_of_lines_of_context, tb_offset)\n",
      "  File \"/home/neurolab/anaconda2/lib/python2.7/site-packages/IPython/core/ultratb.py\", line 313, in wrapped\n",
      "    return f(*args, **kwargs)\n",
      "  File \"/home/neurolab/anaconda2/lib/python2.7/site-packages/IPython/core/ultratb.py\", line 358, in _fixed_getinnerframes\n",
      "    records = fix_frame_records_filenames(inspect.getinnerframes(etb, context))\n",
      "  File \"/home/neurolab/anaconda2/lib/python2.7/inspect.py\", line 1051, in getinnerframes\n",
      "    framelist.append((tb.tb_frame,) + getframeinfo(tb, context))\n",
      "  File \"/home/neurolab/anaconda2/lib/python2.7/inspect.py\", line 1011, in getframeinfo\n",
      "    filename = getsourcefile(frame) or getfile(frame)\n",
      "  File \"/home/neurolab/anaconda2/lib/python2.7/inspect.py\", line 453, in getsourcefile\n",
      "    if hasattr(getmodule(object, filename), '__loader__'):\n",
      "  File \"/home/neurolab/anaconda2/lib/python2.7/inspect.py\", line 499, in getmodule\n",
      "    os.path.realpath(f)] = module.__name__\n",
      "  File \"/home/neurolab/anaconda2/lib/python2.7/posixpath.py\", line 375, in realpath\n",
      "    path, ok = _joinrealpath('', filename, {})\n",
      "  File \"/home/neurolab/anaconda2/lib/python2.7/posixpath.py\", line 400, in _joinrealpath\n",
      "    if not islink(newpath):\n",
      "  File \"/home/neurolab/anaconda2/lib/python2.7/posixpath.py\", line 135, in islink\n",
      "    st = os.lstat(path)\n",
      "  File \"/home/neurolab/anaconda2/lib/python2.7/site-packages/torch/utils/data/dataloader.py\", line 175, in handler\n",
      "    _error_if_any_worker_fails()\n",
      "RuntimeError: DataLoader worker (pid 28072) exited unexpectedly with exit code 1.\n"
     ]
    },
    {
     "ename": "IndexError",
     "evalue": "string index out of range",
     "output_type": "error",
     "traceback": [
      "\u001b[0;31m---------------------------------------------------------------------------\u001b[0m",
      "\u001b[0;31mIndexError\u001b[0m                                Traceback (most recent call last)",
      "\u001b[0;32m/home/neurolab/anaconda2/lib/python2.7/site-packages/IPython/core/interactiveshell.pyc\u001b[0m in \u001b[0;36mrun_code\u001b[0;34m(self, code_obj, result)\u001b[0m\n\u001b[1;32m   2897\u001b[0m             \u001b[0;32mif\u001b[0m \u001b[0mresult\u001b[0m \u001b[0;32mis\u001b[0m \u001b[0;32mnot\u001b[0m \u001b[0mNone\u001b[0m\u001b[0;34m:\u001b[0m\u001b[0;34m\u001b[0m\u001b[0m\n\u001b[1;32m   2898\u001b[0m                 \u001b[0mresult\u001b[0m\u001b[0;34m.\u001b[0m\u001b[0merror_in_exec\u001b[0m \u001b[0;34m=\u001b[0m \u001b[0msys\u001b[0m\u001b[0;34m.\u001b[0m\u001b[0mexc_info\u001b[0m\u001b[0;34m(\u001b[0m\u001b[0;34m)\u001b[0m\u001b[0;34m[\u001b[0m\u001b[0;36m1\u001b[0m\u001b[0;34m]\u001b[0m\u001b[0;34m\u001b[0m\u001b[0m\n\u001b[0;32m-> 2899\u001b[0;31m             \u001b[0mself\u001b[0m\u001b[0;34m.\u001b[0m\u001b[0mshowtraceback\u001b[0m\u001b[0;34m(\u001b[0m\u001b[0;34m)\u001b[0m\u001b[0;34m\u001b[0m\u001b[0m\n\u001b[0m\u001b[1;32m   2900\u001b[0m         \u001b[0;32melse\u001b[0m\u001b[0;34m:\u001b[0m\u001b[0;34m\u001b[0m\u001b[0m\n\u001b[1;32m   2901\u001b[0m             \u001b[0moutflag\u001b[0m \u001b[0;34m=\u001b[0m \u001b[0;36m0\u001b[0m\u001b[0;34m\u001b[0m\u001b[0m\n",
      "\u001b[0;32m/home/neurolab/anaconda2/lib/python2.7/site-packages/IPython/core/interactiveshell.pyc\u001b[0m in \u001b[0;36mshowtraceback\u001b[0;34m(self, exc_tuple, filename, tb_offset, exception_only)\u001b[0m\n\u001b[1;32m   1824\u001b[0m                     \u001b[0;32mexcept\u001b[0m \u001b[0mException\u001b[0m\u001b[0;34m:\u001b[0m\u001b[0;34m\u001b[0m\u001b[0m\n\u001b[1;32m   1825\u001b[0m                         stb = self.InteractiveTB.structured_traceback(etype,\n\u001b[0;32m-> 1826\u001b[0;31m                                             value, tb, tb_offset=tb_offset)\n\u001b[0m\u001b[1;32m   1827\u001b[0m \u001b[0;34m\u001b[0m\u001b[0m\n\u001b[1;32m   1828\u001b[0m                     \u001b[0mself\u001b[0m\u001b[0;34m.\u001b[0m\u001b[0m_showtraceback\u001b[0m\u001b[0;34m(\u001b[0m\u001b[0metype\u001b[0m\u001b[0;34m,\u001b[0m \u001b[0mvalue\u001b[0m\u001b[0;34m,\u001b[0m \u001b[0mstb\u001b[0m\u001b[0;34m)\u001b[0m\u001b[0;34m\u001b[0m\u001b[0m\n",
      "\u001b[0;32m/home/neurolab/anaconda2/lib/python2.7/site-packages/IPython/core/ultratb.pyc\u001b[0m in \u001b[0;36mstructured_traceback\u001b[0;34m(self, etype, value, tb, tb_offset, number_of_lines_of_context)\u001b[0m\n\u001b[1;32m   1410\u001b[0m         \u001b[0mself\u001b[0m\u001b[0;34m.\u001b[0m\u001b[0mtb\u001b[0m \u001b[0;34m=\u001b[0m \u001b[0mtb\u001b[0m\u001b[0;34m\u001b[0m\u001b[0m\n\u001b[1;32m   1411\u001b[0m         return FormattedTB.structured_traceback(\n\u001b[0;32m-> 1412\u001b[0;31m             self, etype, value, tb, tb_offset, number_of_lines_of_context)\n\u001b[0m\u001b[1;32m   1413\u001b[0m \u001b[0;34m\u001b[0m\u001b[0m\n\u001b[1;32m   1414\u001b[0m \u001b[0;34m\u001b[0m\u001b[0m\n",
      "\u001b[0;32m/home/neurolab/anaconda2/lib/python2.7/site-packages/IPython/core/ultratb.pyc\u001b[0m in \u001b[0;36mstructured_traceback\u001b[0;34m(self, etype, value, tb, tb_offset, number_of_lines_of_context)\u001b[0m\n\u001b[1;32m   1318\u001b[0m             \u001b[0;31m# Verbose modes need a full traceback\u001b[0m\u001b[0;34m\u001b[0m\u001b[0;34m\u001b[0m\u001b[0m\n\u001b[1;32m   1319\u001b[0m             return VerboseTB.structured_traceback(\n\u001b[0;32m-> 1320\u001b[0;31m                 \u001b[0mself\u001b[0m\u001b[0;34m,\u001b[0m \u001b[0metype\u001b[0m\u001b[0;34m,\u001b[0m \u001b[0mvalue\u001b[0m\u001b[0;34m,\u001b[0m \u001b[0mtb\u001b[0m\u001b[0;34m,\u001b[0m \u001b[0mtb_offset\u001b[0m\u001b[0;34m,\u001b[0m \u001b[0mnumber_of_lines_of_context\u001b[0m\u001b[0;34m\u001b[0m\u001b[0m\n\u001b[0m\u001b[1;32m   1321\u001b[0m             )\n\u001b[1;32m   1322\u001b[0m         \u001b[0;32melse\u001b[0m\u001b[0;34m:\u001b[0m\u001b[0;34m\u001b[0m\u001b[0m\n",
      "\u001b[0;32m/home/neurolab/anaconda2/lib/python2.7/site-packages/IPython/core/ultratb.pyc\u001b[0m in \u001b[0;36mstructured_traceback\u001b[0;34m(self, etype, evalue, etb, tb_offset, number_of_lines_of_context)\u001b[0m\n\u001b[1;32m   1202\u001b[0m                 \u001b[0mstructured_traceback_parts\u001b[0m \u001b[0;34m+=\u001b[0m \u001b[0mformatted_exception\u001b[0m\u001b[0;34m\u001b[0m\u001b[0m\n\u001b[1;32m   1203\u001b[0m         \u001b[0;32melse\u001b[0m\u001b[0;34m:\u001b[0m\u001b[0;34m\u001b[0m\u001b[0m\n\u001b[0;32m-> 1204\u001b[0;31m             \u001b[0mstructured_traceback_parts\u001b[0m \u001b[0;34m+=\u001b[0m \u001b[0mformatted_exception\u001b[0m\u001b[0;34m[\u001b[0m\u001b[0;36m0\u001b[0m\u001b[0;34m]\u001b[0m\u001b[0;34m\u001b[0m\u001b[0m\n\u001b[0m\u001b[1;32m   1205\u001b[0m \u001b[0;34m\u001b[0m\u001b[0m\n\u001b[1;32m   1206\u001b[0m         \u001b[0;32mreturn\u001b[0m \u001b[0mstructured_traceback_parts\u001b[0m\u001b[0;34m\u001b[0m\u001b[0m\n",
      "\u001b[0;31mIndexError\u001b[0m: string index out of range"
     ]
    },
    {
     "name": "stderr",
     "output_type": "stream",
     "text": [
      "ERROR:tornado.general:Uncaught exception, closing connection.\n",
      "Traceback (most recent call last):\n",
      "  File \"/home/neurolab/anaconda2/lib/python2.7/site-packages/zmq/eventloop/zmqstream.py\", line 414, in _run_callback\n",
      "    callback(*args, **kwargs)\n",
      "  File \"/home/neurolab/anaconda2/lib/python2.7/site-packages/tornado/stack_context.py\", line 277, in null_wrapper\n",
      "    return fn(*args, **kwargs)\n",
      "  File \"/home/neurolab/anaconda2/lib/python2.7/site-packages/ipykernel/kernelbase.py\", line 283, in dispatcher\n",
      "    return self.dispatch_shell(stream, msg)\n",
      "  File \"/home/neurolab/anaconda2/lib/python2.7/site-packages/ipykernel/kernelbase.py\", line 233, in dispatch_shell\n",
      "    handler(stream, idents, msg)\n",
      "  File \"/home/neurolab/anaconda2/lib/python2.7/site-packages/ipykernel/kernelbase.py\", line 421, in execute_request\n",
      "    self._abort_queues()\n",
      "  File \"/home/neurolab/anaconda2/lib/python2.7/site-packages/ipykernel/kernelbase.py\", line 636, in _abort_queues\n",
      "    self._abort_queue(stream)\n",
      "  File \"/home/neurolab/anaconda2/lib/python2.7/site-packages/ipykernel/kernelbase.py\", line 661, in _abort_queue\n",
      "    poller.poll(50)\n",
      "  File \"/home/neurolab/anaconda2/lib/python2.7/site-packages/zmq/sugar/poll.py\", line 99, in poll\n",
      "    return zmq_poll(self.sockets, timeout=timeout)\n",
      "  File \"zmq/backend/cython/_poll.pyx\", line 116, in zmq.backend.cython._poll.zmq_poll\n",
      "  File \"zmq/backend/cython/checkrc.pxd\", line 12, in zmq.backend.cython.checkrc._check_rc\n",
      "    PyErr_CheckSignals()\n",
      "KeyboardInterrupt\n",
      "ERROR:tornado.general:Uncaught exception, closing connection.\n",
      "Traceback (most recent call last):\n",
      "  File \"/home/neurolab/anaconda2/lib/python2.7/site-packages/zmq/eventloop/zmqstream.py\", line 440, in _handle_events\n",
      "    self._handle_recv()\n",
      "  File \"/home/neurolab/anaconda2/lib/python2.7/site-packages/zmq/eventloop/zmqstream.py\", line 472, in _handle_recv\n",
      "    self._run_callback(callback, msg)\n",
      "  File \"/home/neurolab/anaconda2/lib/python2.7/site-packages/zmq/eventloop/zmqstream.py\", line 414, in _run_callback\n",
      "    callback(*args, **kwargs)\n",
      "  File \"/home/neurolab/anaconda2/lib/python2.7/site-packages/tornado/stack_context.py\", line 277, in null_wrapper\n",
      "    return fn(*args, **kwargs)\n",
      "  File \"/home/neurolab/anaconda2/lib/python2.7/site-packages/ipykernel/kernelbase.py\", line 283, in dispatcher\n",
      "    return self.dispatch_shell(stream, msg)\n",
      "  File \"/home/neurolab/anaconda2/lib/python2.7/site-packages/ipykernel/kernelbase.py\", line 233, in dispatch_shell\n",
      "    handler(stream, idents, msg)\n",
      "  File \"/home/neurolab/anaconda2/lib/python2.7/site-packages/ipykernel/kernelbase.py\", line 421, in execute_request\n",
      "    self._abort_queues()\n",
      "  File \"/home/neurolab/anaconda2/lib/python2.7/site-packages/ipykernel/kernelbase.py\", line 636, in _abort_queues\n",
      "    self._abort_queue(stream)\n",
      "  File \"/home/neurolab/anaconda2/lib/python2.7/site-packages/ipykernel/kernelbase.py\", line 661, in _abort_queue\n",
      "    poller.poll(50)\n",
      "  File \"/home/neurolab/anaconda2/lib/python2.7/site-packages/zmq/sugar/poll.py\", line 99, in poll\n",
      "    return zmq_poll(self.sockets, timeout=timeout)\n",
      "  File \"zmq/backend/cython/_poll.pyx\", line 116, in zmq.backend.cython._poll.zmq_poll\n",
      "  File \"zmq/backend/cython/checkrc.pxd\", line 12, in zmq.backend.cython.checkrc._check_rc\n",
      "    PyErr_CheckSignals()\n",
      "KeyboardInterrupt\n",
      "Process Process-214:\n",
      "Traceback (most recent call last):\n",
      "  File \"/home/neurolab/anaconda2/lib/python2.7/multiprocessing/process.py\", line 267, in _bootstrap\n",
      "    self.run()\n",
      "  File \"/home/neurolab/anaconda2/lib/python2.7/multiprocessing/process.py\", line 114, in run\n",
      "    self._target(*self._args, **self._kwargs)\n",
      "  File \"/home/neurolab/anaconda2/lib/python2.7/site-packages/torch/utils/data/dataloader.py\", line 55, in _worker_loop\n",
      "    samples = collate_fn([dataset[i] for i in batch_indices])\n",
      "  File \"/home/neurolab/anaconda2/lib/python2.7/site-packages/torch/utils/data/dataloader.py\", line 135, in default_collate\n",
      "    return [default_collate(samples) for samples in transposed]\n",
      "  File \"/home/neurolab/anaconda2/lib/python2.7/site-packages/torch/utils/data/dataloader.py\", line 121, in default_collate\n",
      "    return torch.stack([torch.from_numpy(b) for b in batch], 0)\n",
      "  File \"/home/neurolab/anaconda2/lib/python2.7/site-packages/torch/functional.py\", line 64, in stack\n",
      "    return torch.cat(inputs, dim)\n"
     ]
    }
   ],
   "source": [
    "step = 0\n",
    "for epoch in range(num_epochs):\n",
    "    print 'epoch:' + str(epoch)\n",
    "    total_loss = 0.0\n",
    "    total_accuracy = 0.0\n",
    "    net.train()\n",
    "    for i, data in enumerate(trainloader, 0):\n",
    "        inputs, labels = data\n",
    "        inputs, labels = to_var(inputs), to_var(labels)\n",
    "        \n",
    "        optimizer.zero_grad()\n",
    "        outputs = net(inputs)\n",
    "        loss = criterion(outputs, labels)\n",
    "        \n",
    "        loss.backward()\n",
    "        optimizer.step()\n",
    "        \n",
    "        total_loss += loss.data[0]\n",
    "        \n",
    "        # Compute accuracy\n",
    "        _, argmax = torch.max(outputs, 1)\n",
    "        accuracy = (labels == argmax.squeeze()).float().mean()\n",
    "        total_accuracy += accuracy.data[0]\n",
    "        \n",
    "        step += 1\n",
    "        if (i+1) % 30 == 0:\n",
    "            print ('Epoch [%d/%d], Iter [%d/%d], Loss: %.6f, Acc: %.6f' \n",
    "                       %(epoch+1, num_epochs, i+1, len(X_train) / batch_size, total_loss / (i+1), total_accuracy / (i+1)))\n",
    "            \n",
    "            info = {\n",
    "                'train_loss': total_loss / (i+1),\n",
    "                'train_accuracy': total_accuracy / (i+1)\n",
    "            }\n",
    "\n",
    "            for tag, value in info.items():\n",
    "                logger.scalar_summary(tag, value, step+1)\n",
    "\n",
    "            # (2) Log values and gradients of the parameters (histogram)\n",
    "            for tag, value in net.named_parameters():\n",
    "                tag = tag.replace('.', '/')\n",
    "                logger.histo_summary(tag, to_np(value), step+1)\n",
    "                logger.histo_summary(tag+'/grad', to_np(value.grad), step+1)\n",
    "    torch.save(net, 'Model/Model_finetuning_97epoch_9long/DeepBrain_epoch_{}.pkl'.format(epoch))            \n",
    "                \n",
    "    total_loss = 0.0\n",
    "    total_accuracy = 0.0\n",
    "    net.eval()\n",
    "    for i, data in enumerate(valloader, 0):\n",
    "        inputs, labels = data\n",
    "        inputs, labels = to_var(inputs, is_volatile=True), to_var(labels, is_volatile=True)\n",
    "        \n",
    "        outputs = net(inputs)\n",
    "        loss = criterion(outputs, labels)\n",
    "        \n",
    "        total_loss += loss.data[0]\n",
    "        \n",
    "        # Compute accuracy\n",
    "        _, argmax = torch.max(outputs, 1)\n",
    "        accuracy = (labels == argmax.squeeze()).float().mean()\n",
    "        total_accuracy += accuracy.data[0]\n",
    "        \n",
    "    info = {\n",
    "        'val_loss': total_loss / (i+1),\n",
    "        'val_accuracy': total_accuracy / (i+1)\n",
    "    }\n",
    "\n",
    "    for tag, value in info.items():\n",
    "        logger.scalar_summary(tag, value, step+1)"
   ]
  },
  {
   "cell_type": "code",
   "execution_count": null,
   "metadata": {},
   "outputs": [],
   "source": [
    "###模型迁移\n",
    "# def assign(net1, net2):\n",
    "#     for param1, param2 in zip(net1.parameters(), net2.parameters()):\n",
    "#         param1.data = param2.data\n",
    "\n",
    "# from model import *\n",
    "# old_net = torch.load('../HCP_Sch/Model_Multiclass_WD/DeepBrain_epoch_97.pkl')\n",
    "\n",
    "# new_net = DeepBrain()\n",
    "\n",
    "# assign(new_net.layer_1, old_net.layer_1)\n",
    "# assign(new_net.layer_2, old_net.layer_2)\n",
    "# assign(new_net.layer_3, old_net.layer_3)\n",
    "# assign(new_net.layer_4, old_net.layer_4)"
   ]
  },
  {
   "cell_type": "markdown",
   "metadata": {},
   "source": [
    "# 测试"
   ]
  },
  {
   "cell_type": "code",
   "execution_count": null,
   "metadata": {},
   "outputs": [],
   "source": [
    "net = torch.load('Model_new/DeepBrain_epoch_46.pkl')\n",
    "if torch.cuda.is_available():\n",
    "    net.cuda()"
   ]
  },
  {
   "cell_type": "code",
   "execution_count": null,
   "metadata": {},
   "outputs": [],
   "source": [
    "# val\n",
    "total_loss = 0.0\n",
    "total_accuracy = 0.0\n",
    "net.eval()\n",
    "for i, data in enumerate(valloader, 0):\n",
    "    inputs, labels = data\n",
    "    inputs, labels = to_var(inputs, is_volatile=True), to_var(labels, is_volatile=True)\n",
    "\n",
    "    outputs = net(inputs)\n",
    "    loss = criterion(outputs, labels)\n",
    "\n",
    "    total_loss += loss.data[0]\n",
    "\n",
    "    # Compute accuracy\n",
    "    _, argmax = torch.max(outputs, 1)\n",
    "    accuracy = (labels == argmax.squeeze()).float().mean()\n",
    "    total_accuracy += accuracy.data[0]"
   ]
  },
  {
   "cell_type": "code",
   "execution_count": 18,
   "metadata": {},
   "outputs": [
    {
     "data": {
      "text/plain": [
       "0.9317396313364056"
      ]
     },
     "execution_count": 18,
     "metadata": {},
     "output_type": "execute_result"
    }
   ],
   "source": [
    "total_accuracy / (i+1)"
   ]
  },
  {
   "cell_type": "code",
   "execution_count": null,
   "metadata": {},
   "outputs": [],
   "source": []
  },
  {
   "cell_type": "code",
   "execution_count": 16,
   "metadata": {},
   "outputs": [
    {
     "name": "stderr",
     "output_type": "stream",
     "text": [
      "/home/neurolab/anaconda2/lib/python2.7/site-packages/ipykernel_launcher.py:24: RuntimeWarning: invalid value encountered in divide\n",
      "/home/neurolab/anaconda2/lib/python2.7/site-packages/ipykernel_launcher.py:24: RuntimeWarning: invalid value encountered in divide\n",
      "/home/neurolab/anaconda2/lib/python2.7/site-packages/ipykernel_launcher.py:24: RuntimeWarning: invalid value encountered in divide\n",
      "/home/neurolab/anaconda2/lib/python2.7/site-packages/ipykernel_launcher.py:24: RuntimeWarning: invalid value encountered in divide\n",
      "/home/neurolab/anaconda2/lib/python2.7/site-packages/ipykernel_launcher.py:24: RuntimeWarning: invalid value encountered in divide\n",
      "/home/neurolab/anaconda2/lib/python2.7/site-packages/ipykernel_launcher.py:24: RuntimeWarning: invalid value encountered in divide\n",
      "/home/neurolab/anaconda2/lib/python2.7/site-packages/torch/nn/modules/container.py:67: UserWarning: Implicit dimension choice for log_softmax has been deprecated. Change the call to include dim=X as an argument.\n",
      "  input = module(input)\n",
      "/home/neurolab/anaconda2/lib/python2.7/site-packages/ipykernel_launcher.py:19: UserWarning: Implicit dimension choice for softmax has been deprecated. Change the call to include dim=X as an argument.\n"
     ]
    }
   ],
   "source": [
    "# test\n",
    "total_loss = 0.0\n",
    "total_accuracy = 0.0\n",
    "net.eval()\n",
    "predict_prob = []\n",
    "for i, data in enumerate(testloader, 0):\n",
    "    inputs, labels = data\n",
    "    inputs, labels = to_var(inputs, is_volatile=True), to_var(labels, is_volatile=True)\n",
    "\n",
    "    outputs = net(inputs)\n",
    "    loss = criterion(outputs, labels)\n",
    "\n",
    "    total_loss += loss.data[0]\n",
    "\n",
    "    # Compute accuracy\n",
    "    _, argmax = torch.max(outputs, 1)\n",
    "    accuracy = (labels == argmax.squeeze()).float().mean()\n",
    "    total_accuracy += accuracy.data[0]\n",
    "    predict_prob.append(F.softmax(outputs).data.cpu().numpy())"
   ]
  },
  {
   "cell_type": "code",
   "execution_count": 17,
   "metadata": {},
   "outputs": [],
   "source": [
    "predict_label = np.concatenate(predict_prob, 0)\n",
    "prob_predict = np.argmax(predict_label, axis=1)\n",
    "\n",
    "np.save('2018_5_28_test_predict.npy', predict_label)"
   ]
  },
  {
   "cell_type": "code",
   "execution_count": 18,
   "metadata": {},
   "outputs": [
    {
     "name": "stdout",
     "output_type": "stream",
     "text": [
      "Epoch_0:    val_loss:0.257498207295      val_accuracy:0.94651813267\n"
     ]
    }
   ],
   "source": [
    "print 'Epoch_{}:    val_loss:{}      val_accuracy:{}'.format(0, total_loss / (i+1), total_accuracy / (i+1))"
   ]
  },
  {
   "cell_type": "code",
   "execution_count": 19,
   "metadata": {},
   "outputs": [],
   "source": [
    "gt = np.argmax(y_test, axis=1)"
   ]
  },
  {
   "cell_type": "code",
   "execution_count": 22,
   "metadata": {},
   "outputs": [],
   "source": [
    "task_info = []\n",
    "for i in xrange(len(X_test)):\n",
    "    task_info.append('_'.join(X_test[i].split(os.sep)[-1].split('_')[1:3]))"
   ]
  },
  {
   "cell_type": "code",
   "execution_count": 47,
   "metadata": {},
   "outputs": [],
   "source": [
    "task_name = list(np.sort(list(set(task_info))))"
   ]
  },
  {
   "cell_type": "code",
   "execution_count": 48,
   "metadata": {},
   "outputs": [],
   "source": [
    "stat_predict = np.zeros((33, 7))"
   ]
  },
  {
   "cell_type": "code",
   "execution_count": 49,
   "metadata": {},
   "outputs": [],
   "source": [
    "for i, name in enumerate(X_test):\n",
    "    stat_predict[task_name.index('_'.join(name.split(os.sep)[-1].split('_')[1:3])), prob_predict[i]] += 1"
   ]
  },
  {
   "cell_type": "code",
   "execution_count": 50,
   "metadata": {},
   "outputs": [],
   "source": [
    "final_df = pd.DataFrame(columns=['Label', 'Predict Label', 'Count'])"
   ]
  },
  {
   "cell_type": "code",
   "execution_count": 51,
   "metadata": {},
   "outputs": [],
   "source": [
    "count = 0\n",
    "for i in range(33):\n",
    "    for j in range(7):\n",
    "        final_df.loc[count] = [task_name[i], df.columns[3:][j], stat_predict[i, j]]\n",
    "        count += 1"
   ]
  },
  {
   "cell_type": "code",
   "execution_count": 52,
   "metadata": {},
   "outputs": [],
   "source": [
    "final_df['Count'] = final_df['Count'].astype(int)"
   ]
  },
  {
   "cell_type": "code",
   "execution_count": 53,
   "metadata": {},
   "outputs": [],
   "source": [
    "final_df = final_df.pivot('Label', 'Predict Label', 'Count')"
   ]
  },
  {
   "cell_type": "code",
   "execution_count": 54,
   "metadata": {},
   "outputs": [],
   "source": [
    "import numpy as np\n",
    "import pandas as pd\n",
    "import seaborn as sns\n",
    "import matplotlib.pyplot as plt\n",
    "\n",
    "%matplotlib inline"
   ]
  },
  {
   "cell_type": "code",
   "execution_count": 55,
   "metadata": {},
   "outputs": [
    {
     "data": {
      "image/png": "[encoded data removed]",
      "text/plain": [
       "<matplotlib.figure.Figure at 0x7fbf780e79d0>"
      ]
     },
     "metadata": {},
     "output_type": "display_data"
    }
   ],
   "source": [
    "plt.figure(figsize=(10.5, 10.5))\n",
    "sns.heatmap(final_df, annot=True, fmt=\"d\", linecolor='white', linewidths=0.5)\n",
    "\n",
    "fig = plt.gcf()"
   ]
  },
  {
   "cell_type": "code",
   "execution_count": 59,
   "metadata": {},
   "outputs": [],
   "source": [
    "fig.savefig('OutputResult/2018_5_28_confusion_matrix.pdf', dpi = 300)"
   ]
  },
  {
   "cell_type": "code",
   "execution_count": null,
   "metadata": {},
   "outputs": [],
   "source": []
  },
  {
   "cell_type": "code",
   "execution_count": null,
   "metadata": {},
   "outputs": [],
   "source": []
  },
  {
   "cell_type": "markdown",
   "metadata": {},
   "source": [
    "# 可视化测试"
   ]
  },
  {
   "cell_type": "code",
   "execution_count": 13,
   "metadata": {},
   "outputs": [],
   "source": [
    "%load_ext autoreload\n",
    "%autoreload 2"
   ]
  },
  {
   "cell_type": "code",
   "execution_count": 14,
   "metadata": {},
   "outputs": [],
   "source": [
    "from torch.nn import Parameter\n",
    "from torchvis import util\n",
    "def normalize_data(data, train=False):\n",
    "    if train:\n",
    "        select_idx = np.random.randint(low=27, high=data.shape[-1], size=1)[0]\n",
    "        data = data[8:-8, 8:-8, :-10, select_idx-self.input_shape:select_idx]\n",
    "    else:\n",
    "        data = data[8:-8, 8:-8, :-10, :27]\n",
    "    data = data / data.max(axis=3)[:, :, :, np.newaxis]\n",
    "    data[~ np.isfinite(data)] = 0\n",
    "    return data.transpose(3, 0, 1, 2)"
   ]
  },
  {
   "cell_type": "code",
   "execution_count": 15,
   "metadata": {},
   "outputs": [],
   "source": [
    "class GuidedBackprop():\n",
    "    \"\"\"\n",
    "       Produces gradients generated with guided back propagation from the given image\n",
    "    \"\"\"\n",
    "    def __init__(self, model):\n",
    "        self.model = model\n",
    "        self.gradients = None\n",
    "        # Put model in evaluation mode\n",
    "        self.model.eval()\n",
    "        self.update_relus()\n",
    "        self.hook_layers()\n",
    "\n",
    "    def hook_layers(self):\n",
    "        def hook_function(module, grad_in, grad_out):\n",
    "            self.gradients = grad_in[0]\n",
    "\n",
    "        # Register hook to the first layer\n",
    "        first_layer = list(self.model.preBlock._modules.items())[0][1]\n",
    "        first_layer.register_backward_hook(hook_function)\n",
    "\n",
    "    def update_relus(self):\n",
    "        \"\"\"\n",
    "            Updates relu activation functions so that it only returns positive gradients\n",
    "        \"\"\"\n",
    "        def relu_hook_function(module, grad_in, grad_out):\n",
    "            \"\"\"\n",
    "            If there is a negative gradient, changes it to zero\n",
    "            \"\"\"\n",
    "            if isinstance(module, nn.ReLU):\n",
    "                return (torch.clamp(grad_in[0], min=0.0),)\n",
    "        # Loop through layers, hook up ReLUs with relu_hook_function\n",
    "        \n",
    "        block_name = ['preBlock', 'layer_1', 'layer_2', 'layer_3', 'layer_4', 'post_conv']\n",
    "        for name in block_name:\n",
    "            for pos, module in getattr(self.model, name)._modules.items():\n",
    "                if isinstance(module, nn.ReLU):\n",
    "                    module.register_backward_hook(relu_hook_function)\n",
    "\n",
    "    def generate_gradients(self, input_image, target_class):\n",
    "        # Forward pass\n",
    "        model_output = self.model(input_image)\n",
    "        # Zero gradients\n",
    "        self.model.zero_grad()\n",
    "        # Target for backprop\n",
    "        one_hot_output = torch.FloatTensor(1, model_output.size()[-1]).zero_().cuda()\n",
    "        one_hot_output[0][target_class] = 1\n",
    "        # Backward pass\n",
    "        model_output.backward(gradient=one_hot_output)\n",
    "        # Convert Pytorch variable to numpy array\n",
    "        # [0] to get rid of the first channel (1,3,224,224)\n",
    "        gradients_as_arr = self.gradients.data.cpu().numpy()[0]\n",
    "        return gradients_as_arr"
   ]
  },
  {
   "cell_type": "code",
   "execution_count": 16,
   "metadata": {},
   "outputs": [],
   "source": [
    "import tqdm"
   ]
  },
  {
   "cell_type": "code",
   "execution_count": null,
   "metadata": {},
   "outputs": [
    {
     "name": "stderr",
     "output_type": "stream",
     "text": [
      "  0%|          | 0/6902 [00:00<?, ?it/s]/home/neurolab/anaconda2/lib/python2.7/site-packages/ipykernel_launcher.py:9: RuntimeWarning: invalid value encountered in divide\n",
      "  if __name__ == '__main__':\n",
      "/home/neurolab/anaconda2/lib/python2.7/site-packages/torch/nn/modules/container.py:67: UserWarning: Implicit dimension choice for log_softmax has been deprecated. Change the call to include dim=X as an argument.\n",
      "  input = module(input)\n",
      "  1%|          | 45/6902 [02:16<5:46:17,  3.03s/it]"
     ]
    }
   ],
   "source": [
    "####  迭代 ####\n",
    "net = torch.load('Model_new/DeepBrain_epoch_46.pkl').cuda()\n",
    "_ = net.eval()\n",
    "GBP = GuidedBackprop(net)\n",
    "for i in tqdm.tqdm(range(len(X_test))):\n",
    "\n",
    "    file_name = X_test[i]\n",
    "    \n",
    "    inputs = torch.FloatTensor(normalize_data(nib.load(file_name).get_data())[np.newaxis, ...])\n",
    "    \n",
    "    input_img = Parameter(inputs.cuda(), requires_grad=True)\n",
    "    \n",
    "    if input_img.grad is not None:\n",
    "        input_img.grad.data.zero_()\n",
    "        \n",
    "    GBP.model.zero_grad()\n",
    "    \n",
    "    output_grad = GBP.generate_gradients(input_img, np.where(y_test[i] == 1)[0][0])\n",
    "\n",
    "    export_gradient = np.zeros((27, 91, 109, 91))\n",
    "    export_gradient[:, 8:-8, 8:-8, :-10] = output_grad[0, :]\n",
    "\n",
    "    nifti_img = nib.Nifti1Image(export_gradient.transpose(1, 2, 3, 0), np.eye(4))\n",
    "    nifti_img.to_filename('OutputResult/Visualize_Model/gradient_{}.nii.gz'.format(file_name.split(os.sep)[-1].split('.')[0]))"
   ]
  },
  {
   "cell_type": "code",
   "execution_count": null,
   "metadata": {},
   "outputs": [],
   "source": []
  },
  {
   "cell_type": "markdown",
   "metadata": {},
   "source": [
    "# 存储预测结果"
   ]
  },
  {
   "cell_type": "code",
   "execution_count": 7,
   "metadata": {},
   "outputs": [],
   "source": [
    "predict_label = np.load('2018_5_28_test_predict.npy')"
   ]
  },
  {
   "cell_type": "code",
   "execution_count": 9,
   "metadata": {},
   "outputs": [],
   "source": [
    "prob_predict = np.argmax(predict_label, axis=1)"
   ]
  },
  {
   "cell_type": "code",
   "execution_count": 31,
   "metadata": {},
   "outputs": [],
   "source": [
    "col_name = ['file_name']\n",
    "col_name.extend(df.columns[3:])"
   ]
  },
  {
   "cell_type": "code",
   "execution_count": 34,
   "metadata": {
    "scrolled": true
   },
   "outputs": [],
   "source": [
    "predict_df = pd.DataFrame(columns=col_name)"
   ]
  },
  {
   "cell_type": "code",
   "execution_count": 35,
   "metadata": {},
   "outputs": [],
   "source": [
    "predict_df['file_name'] = X_test"
   ]
  },
  {
   "cell_type": "code",
   "execution_count": 38,
   "metadata": {},
   "outputs": [],
   "source": [
    "predict_df.replace(np.nan, 0, inplace=True)"
   ]
  },
  {
   "cell_type": "code",
   "execution_count": 40,
   "metadata": {},
   "outputs": [
    {
     "data": {
      "text/plain": [
       "array([5, 0, 4, ..., 3, 1, 4])"
      ]
     },
     "execution_count": 40,
     "metadata": {},
     "output_type": "execute_result"
    }
   ],
   "source": [
    "prob_predict"
   ]
  },
  {
   "cell_type": "code",
   "execution_count": 41,
   "metadata": {},
   "outputs": [],
   "source": [
    "for i, idx in enumerate(prob_predict):\n",
    "    predict_df.iloc[i, idx+1] = 1"
   ]
  },
  {
   "cell_type": "code",
   "execution_count": 44,
   "metadata": {},
   "outputs": [
    {
     "data": {
      "text/plain": [
       "'/media/neurolab/Cache/AllRepeatsCutAndLabel/100408_EMOTION_LR-1_fear.nii.gz'"
      ]
     },
     "execution_count": 44,
     "metadata": {},
     "output_type": "execute_result"
    }
   ],
   "source": [
    "predict_df.iloc[1, :]['file_name']"
   ]
  },
  {
   "cell_type": "code",
   "execution_count": 45,
   "metadata": {},
   "outputs": [],
   "source": [
    "predict_df.to_csv('OutputResult/predict_label.csv', index=False)"
   ]
  },
  {
   "cell_type": "code",
   "execution_count": null,
   "metadata": {},
   "outputs": [],
   "source": []
  },
  {
   "cell_type": "markdown",
   "metadata": {},
   "source": [
    "# ROC"
   ]
  },
  {
   "cell_type": "code",
   "execution_count": 12,
   "metadata": {},
   "outputs": [],
   "source": [
    "import numpy as np\n",
    "import matplotlib.pyplot as plt\n",
    "from itertools import cycle\n",
    "\n",
    "from sklearn import svm, datasets\n",
    "from sklearn.metrics import roc_curve, auc\n",
    "from sklearn.model_selection import train_test_split\n",
    "from sklearn.preprocessing import label_binarize\n",
    "from sklearn.multiclass import OneVsRestClassifier\n",
    "from scipy import interp\n",
    "%matplotlib inline"
   ]
  },
  {
   "cell_type": "code",
   "execution_count": 11,
   "metadata": {},
   "outputs": [],
   "source": [
    "predict_label = np.load('2018_5_28_test_predict.npy')"
   ]
  },
  {
   "cell_type": "code",
   "execution_count": 17,
   "metadata": {},
   "outputs": [
    {
     "data": {
      "image/png": "[encoded data removed]",
      "text/plain": [
       "<matplotlib.figure.Figure at 0x7f2e47128d50>"
      ]
     },
     "metadata": {},
     "output_type": "display_data"
    }
   ],
   "source": [
    "n_classes = 7\n",
    "fpr = dict()\n",
    "tpr = dict()\n",
    "roc_auc = dict()\n",
    "for i in range(n_classes):\n",
    "    fpr[i], tpr[i], _ = roc_curve(y_test[:, i], predict_label[:, i])\n",
    "    roc_auc[i] = auc(fpr[i], tpr[i])\n",
    "\n",
    "colors = ('b', 'g', 'r', 'c', 'm', 'y', 'k')\n",
    "\n",
    "lw = 1\n",
    "\n",
    "col_name = [name.split('_')[1] for name in df.columns.values[3:]]\n",
    "\n",
    "all_fpr = np.unique(np.concatenate([fpr[i] for i in range(n_classes)]))\n",
    "\n",
    "# Then interpolate all ROC curves at this points\n",
    "mean_tpr = np.zeros_like(all_fpr)\n",
    "for i in range(n_classes):\n",
    "    mean_tpr += interp(all_fpr, fpr[i], tpr[i])\n",
    "\n",
    "# Finally average it and compute AUC\n",
    "mean_tpr /= n_classes\n",
    "\n",
    "# Plot all ROC curves\n",
    "fig = plt.figure(figsize=(8,8))\n",
    "# colors = cycle(['aqua', 'darkorange', 'cornflowerblue'])\n",
    "colors = cycle(['b', 'g', 'r', 'c', 'm', 'y', 'k'])\n",
    "linestyles = cycle(['solid', 'dashed', 'dashdot', 'dotted'])\n",
    "for i, color, linesty in zip(range(n_classes), colors, linestyles):\n",
    "    plt.plot(fpr[i], tpr[i], color=color, lw=lw,\n",
    "             label=col_name[i], ls=linesty)\n",
    "plt.plot([0, 1], [0, 1], 'k--', lw=lw)\n",
    "plt.xlim([0.0, 1.0])\n",
    "plt.ylim([0.0, 1.05])\n",
    "plt.xlabel('1 - Specificity')\n",
    "plt.ylabel('Sensitivity')\n",
    "plt.title('')\n",
    "plt.legend(loc=\"lower right\")\n",
    "fig = plt.gcf()\n",
    "plt.show()"
   ]
  },
  {
   "cell_type": "code",
   "execution_count": 19,
   "metadata": {},
   "outputs": [],
   "source": [
    "fig.savefig('OutputResult/2018_5_28_ALL_test_ROC.pdf', dpi = 300)"
   ]
  },
  {
   "cell_type": "code",
   "execution_count": 18,
   "metadata": {},
   "outputs": [
    {
     "data": {
      "text/plain": [
       "{0: 0.9986820803662421,\n",
       " 1: 0.9897800171858023,\n",
       " 2: 0.9988099338362296,\n",
       " 3: 0.999425559511312,\n",
       " 4: 0.9937754269495729,\n",
       " 5: 0.9990373946010898,\n",
       " 6: 0.9968416678503216}"
      ]
     },
     "execution_count": 18,
     "metadata": {},
     "output_type": "execute_result"
    }
   ],
   "source": [
    "roc_auc"
   ]
  },
  {
   "cell_type": "code",
   "execution_count": null,
   "metadata": {},
   "outputs": [],
   "source": []
  }
 ],
 "metadata": {
  "kernelspec": {
   "display_name": "Python 2",
   "language": "python",
   "name": "python2"
  },
  "language_info": {
   "codemirror_mode": {
    "name": "ipython",
    "version": 2
   },
   "file_extension": ".py",
   "mimetype": "text/x-python",
   "name": "python",
   "nbconvert_exporter": "python",
   "pygments_lexer": "ipython2",
   "version": "2.7.14"
  }
 },
 "nbformat": 4,
 "nbformat_minor": 2
}
